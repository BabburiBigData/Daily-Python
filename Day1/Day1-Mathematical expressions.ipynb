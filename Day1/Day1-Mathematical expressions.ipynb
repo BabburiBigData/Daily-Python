{
 "cells": [
  {
   "cell_type": "code",
   "execution_count": 4,
   "id": "f5cea4e2",
   "metadata": {},
   "outputs": [
    {
     "name": "stdout",
     "output_type": "stream",
     "text": [
      "7\n",
      "2\n",
      "5.0\n",
      "15\n",
      "saivardhan\n",
      "saisaisai\n",
      "13.45\n",
      "25\n"
     ]
    }
   ],
   "source": [
    "print(3+4)\n",
    "print(5-3)\n",
    "print(15/3)\n",
    "print(5*3)\n",
    "print('sai'+'vardhan')\n",
    "print(\"sai\"*3)\n",
    "print(10+3.45)\n",
    "print(5 ** 2)"
   ]
  },
  {
   "cell_type": "code",
   "execution_count": 6,
   "id": "b2a4217c",
   "metadata": {},
   "outputs": [
    {
     "name": "stdout",
     "output_type": "stream",
     "text": [
      "18\n",
      "24\n"
     ]
    }
   ],
   "source": [
    "#follows pemdas rule to evaluate expression\n",
    "#order:-paranthesis,exponents,multiplcation,division,addition,subtraction\n",
    "print(3+5*3)\n",
    "print((3+5)*3)"
   ]
  },
  {
   "cell_type": "code",
   "execution_count": 10,
   "id": "753f5d3e",
   "metadata": {},
   "outputs": [
    {
     "name": "stdout",
     "output_type": "stream",
     "text": [
      "5.0\n",
      "4.666666666666667\n",
      "4\n",
      "-5\n",
      "2\n",
      "0\n",
      "1\n",
      "\n",
      "1\n",
      "2\n",
      "0\n"
     ]
    }
   ],
   "source": [
    "#Division Floor Division ModuloOperator\n",
    "print(15/3)\n",
    "print(14/3)\n",
    "print(14//3)\n",
    "print(-14//3)\n",
    "print(14%3)\n",
    "print(15%3)\n",
    "print(16%3)\n",
    "\n",
    "\n",
    "print()\n",
    "print(1%3)\n",
    "print(2%3)\n",
    "print(3%3)\n"
   ]
  }
 ],
 "metadata": {
  "kernelspec": {
   "display_name": "Python 3 (ipykernel)",
   "language": "python",
   "name": "python3"
  },
  "language_info": {
   "codemirror_mode": {
    "name": "ipython",
    "version": 3
   },
   "file_extension": ".py",
   "mimetype": "text/x-python",
   "name": "python",
   "nbconvert_exporter": "python",
   "pygments_lexer": "ipython3",
   "version": "3.9.12"
  }
 },
 "nbformat": 4,
 "nbformat_minor": 5
}
