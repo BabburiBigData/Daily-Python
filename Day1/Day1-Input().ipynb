{
 "cells": [
  {
   "cell_type": "code",
   "execution_count": 1,
   "id": "ad1a63dd",
   "metadata": {},
   "outputs": [
    {
     "name": "stdout",
     "output_type": "stream",
     "text": [
      "enter your namesai vardhan\n",
      "sai vardhan\n"
     ]
    }
   ],
   "source": [
    "name=input('enter your name')\n",
    "print(name)"
   ]
  },
  {
   "cell_type": "code",
   "execution_count": 3,
   "id": "f53aa64e",
   "metadata": {},
   "outputs": [
    {
     "name": "stdout",
     "output_type": "stream",
     "text": [
      "enter your number10\n",
      "10\n"
     ]
    }
   ],
   "source": [
    "age=int(input('enter your number'))\n",
    "print(age)"
   ]
  },
  {
   "cell_type": "code",
   "execution_count": 4,
   "id": "e1169b9b",
   "metadata": {},
   "outputs": [
    {
     "name": "stdout",
     "output_type": "stream",
     "text": [
      "enter your salary10000.546\n",
      "10000.546\n"
     ]
    }
   ],
   "source": [
    "salary=float(input('enter your salary'))\n",
    "print(salary)"
   ]
  },
  {
   "cell_type": "code",
   "execution_count": 1,
   "id": "89b13cc5",
   "metadata": {},
   "outputs": [
    {
     "name": "stdout",
     "output_type": "stream",
     "text": [
      "enter true or falsefalse\n",
      "True\n"
     ]
    }
   ],
   "source": [
    "married=bool(input('enter true or false'))\n",
    "print(married)"
   ]
  },
  {
   "cell_type": "code",
   "execution_count": 3,
   "id": "faa11f4f",
   "metadata": {},
   "outputs": [
    {
     "name": "stdout",
     "output_type": "stream",
     "text": [
      "enter numbers:10,20\n",
      "10 20\n"
     ]
    }
   ],
   "source": [
    "#reading multiple values by a separator\n",
    "a,b=[int(x) for x in input('enter numbers:').split(',')]\n",
    "print(a,b)"
   ]
  }
 ],
 "metadata": {
  "kernelspec": {
   "display_name": "Python 3 (ipykernel)",
   "language": "python",
   "name": "python3"
  },
  "language_info": {
   "codemirror_mode": {
    "name": "ipython",
    "version": 3
   },
   "file_extension": ".py",
   "mimetype": "text/x-python",
   "name": "python",
   "nbconvert_exporter": "python",
   "pygments_lexer": "ipython3",
   "version": "3.9.12"
  }
 },
 "nbformat": 4,
 "nbformat_minor": 5
}
