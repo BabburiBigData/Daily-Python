{
 "cells": [
  {
   "cell_type": "code",
   "execution_count": 3,
   "id": "d4742d71",
   "metadata": {},
   "outputs": [
    {
     "name": "stdout",
     "output_type": "stream",
     "text": [
      "my name is sai and last is vardhan\n"
     ]
    }
   ],
   "source": [
    "name='sai'\n",
    "last=\"vardhan\"\n",
    "print(f\"my name is {name} and last is {last}\")"
   ]
  },
  {
   "cell_type": "code",
   "execution_count": 6,
   "id": "b002ed3f",
   "metadata": {},
   "outputs": [
    {
     "name": "stdout",
     "output_type": "stream",
     "text": [
      "my name is sai and last is vardhan\n",
      "my name is vardhan and last is sai\n"
     ]
    }
   ],
   "source": [
    "name='sai'\n",
    "last=\"vardhan\"\n",
    "print(\"my name is {} and last is {}\".format(name,last))\n",
    "print(\"my name is {1} and last is {0}\".format(name,last))"
   ]
  },
  {
   "cell_type": "code",
   "execution_count": 16,
   "id": "aeac51de",
   "metadata": {},
   "outputs": [
    {
     "name": "stdout",
     "output_type": "stream",
     "text": [
      "3\n",
      "3.3333333333333335\n",
      "3.33\n",
      "4\n",
      "3\n"
     ]
    }
   ],
   "source": [
    "print(round(10/3))\n",
    "print(10/3)\n",
    "print(round(10/3,2))\n",
    "print(round(3.55))\n",
    "print(round(3.33))"
   ]
  }
 ],
 "metadata": {
  "kernelspec": {
   "display_name": "Python 3 (ipykernel)",
   "language": "python",
   "name": "python3"
  },
  "language_info": {
   "codemirror_mode": {
    "name": "ipython",
    "version": 3
   },
   "file_extension": ".py",
   "mimetype": "text/x-python",
   "name": "python",
   "nbconvert_exporter": "python",
   "pygments_lexer": "ipython3",
   "version": "3.9.12"
  }
 },
 "nbformat": 4,
 "nbformat_minor": 5
}
