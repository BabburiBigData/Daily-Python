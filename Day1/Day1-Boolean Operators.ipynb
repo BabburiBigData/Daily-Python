{
 "cells": [
  {
   "cell_type": "code",
   "execution_count": 28,
   "id": "afbac089",
   "metadata": {},
   "outputs": [
    {
     "name": "stdout",
     "output_type": "stream",
     "text": [
      "True\n",
      "<class 'bool'>\n",
      "------------\n",
      "True\n",
      "False\n",
      "------------\n",
      "True\n",
      "False\n",
      "True\n",
      "False\n",
      "False\n",
      "<class 'list'>\n",
      "<class 'dict'>\n"
     ]
    }
   ],
   "source": [
    "print(True)\n",
    "print(type(False))\n",
    "print('------------')\n",
    "print('True')\n",
    "print('False')\n",
    "print('------------')\n",
    "print(5==5)\n",
    "print(5==6)\n",
    "print(5==5.0)\n",
    "print(5.4==5.3)\n",
    "print(5=='5')\n",
    "print(type([1,2,3]))\n",
    "print(type({'nj':'key'}))"
   ]
  },
  {
   "cell_type": "code",
   "execution_count": 18,
   "id": "297eae62",
   "metadata": {},
   "outputs": [
    {
     "name": "stdout",
     "output_type": "stream",
     "text": [
      "True\n",
      "False\n",
      "False\n",
      "True\n"
     ]
    }
   ],
   "source": [
    "print('ham'=='ham')\n",
    "print('ham'=='bacon')\n",
    "print('ham'==\"hAm\")\n",
    "print('5'=='5')"
   ]
  },
  {
   "cell_type": "code",
   "execution_count": null,
   "id": "034d423d",
   "metadata": {},
   "outputs": [],
   "source": [
    "print(True==True)\n",
    "print(False==False)\n",
    "print(True==False)"
   ]
  },
  {
   "cell_type": "code",
   "execution_count": 22,
   "id": "15c74941",
   "metadata": {},
   "outputs": [
    {
     "name": "stdout",
     "output_type": "stream",
     "text": [
      "False\n",
      "True\n",
      "True\n",
      "False\n"
     ]
    }
   ],
   "source": [
    "print(10!=10)\n",
    "print(10!=8)\n",
    "print('music'!='Music')\n",
    "print('music'!=\"music\")"
   ]
  },
  {
   "cell_type": "code",
   "execution_count": 24,
   "id": "a665cab2",
   "metadata": {},
   "outputs": [
    {
     "name": "stdout",
     "output_type": "stream",
     "text": [
      "True\n",
      "False\n",
      "True\n",
      "False\n",
      "True\n",
      "False\n"
     ]
    }
   ],
   "source": [
    "print(5<10)\n",
    "print(5>10)\n",
    "print(5<=10)\n",
    "print(5>=10)\n",
    "print(5<8<=10)\n",
    "print(5<8<=7)"
   ]
  }
 ],
 "metadata": {
  "kernelspec": {
   "display_name": "Python 3 (ipykernel)",
   "language": "python",
   "name": "python3"
  },
  "language_info": {
   "codemirror_mode": {
    "name": "ipython",
    "version": 3
   },
   "file_extension": ".py",
   "mimetype": "text/x-python",
   "name": "python",
   "nbconvert_exporter": "python",
   "pygments_lexer": "ipython3",
   "version": "3.9.12"
  }
 },
 "nbformat": 4,
 "nbformat_minor": 5
}
